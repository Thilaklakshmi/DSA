{
 "cells": [
  {
   "cell_type": "markdown",
   "id": "0b5cfffd-ba37-43da-b978-48bf71ff20b3",
   "metadata": {},
   "source": [
    "## Q1 \n"
   ]
  },
  {
   "cell_type": "code",
   "execution_count": 1,
   "id": "6f370719-c0b1-4655-9726-a49baed8076f",
   "metadata": {},
   "outputs": [
    {
     "name": "stdout",
     "output_type": "stream",
     "text": [
      "True\n"
     ]
    }
   ],
   "source": [
    "# Declaration of function \n",
    "# Time complexity = O(n^2) \n",
    "# space Complexity = O(1)    =>  constant space is used\n",
    "\n",
    "def duplicates(arr):\n",
    "    for i in range (len(arr)):          #  O(n)   Outer loop iterates n iterations\n",
    "        for j in range (i+1,len(arr)):  #  O(n)   inner loop iterates n iterations\n",
    "                                        # --------\n",
    "                                        #  O(n^2)\n",
    "            \n",
    "            if arr[i] == arr[j]:        # if condition to Check if the current element is equal to any other element\n",
    "                return True\n",
    "            \n",
    "    return False      # if arr[i] != arr[j]  then it will return false\n",
    "                \n",
    "# Driver code              \n",
    "arr = [1, 2, 4, 2, 5, 9]\n",
    "\n",
    "r = duplicates(arr)   # Calling  the function\n",
    "print(r)"
   ]
  },
  {
   "cell_type": "markdown",
   "id": "f7a003f8-b8cf-4b06-a237-6ae7f62c38c2",
   "metadata": {},
   "source": [
    "## Q2"
   ]
  },
  {
   "cell_type": "code",
   "execution_count": 2,
   "id": "9ebb13e1-5119-4e1c-a85d-9e5f0898a804",
   "metadata": {},
   "outputs": [
    {
     "name": "stdout",
     "output_type": "stream",
     "text": [
      "[5, 6, 7, 1, 2, 3, 4]\n"
     ]
    }
   ],
   "source": [
    "# Declaration of function \n",
    "# Time complexity = O(n) \n",
    "# Space Complexity = O(n)    =>  O(n+2)\n",
    "\n",
    "def rotateTheArray(arr):\n",
    "    \n",
    "    for i in range(len(arr)):    #  O(n)   loop iterates n times\n",
    "        if i > k:\n",
    "            arr1.append(arr[i])  # Append elements to arr1 when i is greater than k\n",
    "        if i <= k:\n",
    "            arr2.append(arr[i])  # Append elements to arr2 when i is less than or equal to k\n",
    "            \n",
    "            \n",
    "    return(arr1 + arr2)         # Concatenate the two arrays and return the result\n",
    "\n",
    "# Driver code   \n",
    "arr = [1, 2, 3, 4, 5, 6, 7] \n",
    "k = 3\n",
    "arr1 = []      #   O(n)\n",
    "arr2 = []      #   O(n)\n",
    "               #  -------\n",
    "               #   O(n+2)\n",
    "\n",
    "r = rotateTheArray(arr)   # Calling  the function\n",
    "print(r)"
   ]
  },
  {
   "cell_type": "markdown",
   "id": "60c5decb-be5a-46a0-a810-bcc6569f37bf",
   "metadata": {},
   "source": [
    "## Q3"
   ]
  },
  {
   "cell_type": "code",
   "execution_count": 3,
   "id": "a40462e7-e2d7-436a-a899-63a88487cb66",
   "metadata": {},
   "outputs": [
    {
     "name": "stdout",
     "output_type": "stream",
     "text": [
      "[12, 9, 7, 5, 4, 2]\n"
     ]
    }
   ],
   "source": [
    "# Declaration of function \n",
    "# Time complexity = O(n) \n",
    "# space Complexity = O(1)    => since no additional space used (in-place reversal)\n",
    "\n",
    "def ReverseArray(arr):\n",
    "    for i in range(len(arr)//2):    #  O(n/2)   which simplifies to O(n)\n",
    "        \n",
    "        # Swap elements at indices i and len(arr)-1-i to reverse the array in place\n",
    "        arr[i], arr[len(arr)-1-i] = arr[len(arr)-1-i], arr[i]\n",
    "        \n",
    "    return arr\n",
    "\n",
    "# Driver code\n",
    "arr = [2, 4, 5, 7, 9, 12]\n",
    "\n",
    "r = ReverseArray(arr)     # Calling  the function\n",
    "print(r)"
   ]
  },
  {
   "cell_type": "markdown",
   "id": "8e6e104b-4bc2-46cc-a7c9-ee60de4cf0f0",
   "metadata": {},
   "source": [
    " "
   ]
  },
  {
   "cell_type": "code",
   "execution_count": 4,
   "id": "ebb0bf12-3f2b-4b5a-bb29-004d119ad09f",
   "metadata": {},
   "outputs": [
    {
     "data": {
      "text/plain": [
       "[12, 9, 7, 5, 4, 2]"
      ]
     },
     "execution_count": 4,
     "metadata": {},
     "output_type": "execute_result"
    }
   ],
   "source": [
    "arr = [2, 4, 5, 7, 9, 12]\n",
    "# Create a reversed copy of the array using slice notation\n",
    "arr[::-1]   "
   ]
  },
  {
   "cell_type": "markdown",
   "id": "ffb39ac2-569f-40bd-ab82-da8fa5a4c794",
   "metadata": {},
   "source": [
    "## Q4"
   ]
  },
  {
   "cell_type": "code",
   "execution_count": 5,
   "id": "8b8ebe00-5884-41cc-8fcc-7359e5afe002",
   "metadata": {},
   "outputs": [
    {
     "name": "stdout",
     "output_type": "stream",
     "text": [
      "20\n"
     ]
    }
   ],
   "source": [
    "# Declaration of function \n",
    "# Time complexity = O(n) \n",
    "# space Complexity = O(1)   \n",
    "def maximum(arr):\n",
    "    max = arr[0]                   # Here we assume the first element is the maximum\n",
    "    \n",
    "    for i in range(len(arr)):      #  O(n)   loop iterates n times\n",
    "        if arr[i] > max:           # Compare current element with the current maximum\n",
    "            max = arr[i]           # Update the maximum if the current element is greater\n",
    "    return max\n",
    "\n",
    "# Driver code\n",
    "arr = [10, 5, 20, 8, 15]\n",
    "\n",
    "r = maximum(arr)         # Calling  the function\n",
    "print(r)"
   ]
  },
  {
   "cell_type": "markdown",
   "id": "71a0a4aa-6917-48db-a75e-d02b35b15cc9",
   "metadata": {},
   "source": [
    "## Q5"
   ]
  },
  {
   "cell_type": "code",
   "execution_count": 6,
   "id": "180a00dc-2d1b-4a73-98c2-e28fa0290e47",
   "metadata": {},
   "outputs": [
    {
     "name": "stdout",
     "output_type": "stream",
     "text": [
      "[5, 6, 7]\n"
     ]
    }
   ],
   "source": [
    "# Declaration of function \n",
    "# Time complexity = O(n) \n",
    "# space Complexity = O(1) \n",
    "def sortedArray(arr):\n",
    "    unique = arr[0]       # Assume the first element is unique\n",
    "    arr.append(unique)    # Appending a sentinel element to the end for comparison\n",
    "\n",
    "    for i in range(1, len(arr)):\n",
    "        if arr[i] != unique:\n",
    "            unique = arr[i]\n",
    "            arr.append(unique)\n",
    "    return arr1\n",
    "\n",
    "# Driver code\n",
    "arr = [1, 1, 2, 2, 2, 3, 3, 4, 4, 4, 5, 5]\n",
    "  \n",
    "r = sortedArray(arr)      # Calling  the function\n",
    "print(r)"
   ]
  }
 ],
 "metadata": {
  "kernelspec": {
   "display_name": "Python 3 (ipykernel)",
   "language": "python",
   "name": "python3"
  },
  "language_info": {
   "codemirror_mode": {
    "name": "ipython",
    "version": 3
   },
   "file_extension": ".py",
   "mimetype": "text/x-python",
   "name": "python",
   "nbconvert_exporter": "python",
   "pygments_lexer": "ipython3",
   "version": "3.10.8"
  }
 },
 "nbformat": 4,
 "nbformat_minor": 5
}
