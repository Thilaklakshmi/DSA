{
 "cells": [
  {
   "cell_type": "markdown",
   "id": "538c2b50-79f6-4a7a-bca3-1831f07c5b3c",
   "metadata": {},
   "source": [
    "##    Q1"
   ]
  },
  {
   "cell_type": "markdown",
   "id": "4a69c78a-d496-47ae-95f1-9245c34b7d05",
   "metadata": {},
   "source": [
    "#### Tower of Hanoi is a mathematical puzzle where we have three rods (A, B, and C) and N disks. Initially, all the disks are stacked in decreasing value of diameter i.e., the smallest disk is placed on the top and they are on rod A. The objective of the puzzle is to move the entire stack to another rod (here considered C), obeying the following simple rules: \n",
    "\n",
    "#### -> Only one disk can be moved at a time.\n",
    "#### -> Each move consists of taking the upper disk from one of the stacks and placing it on top of another stack i.e. a disk can only be moved if it is the uppermost disk on a stack.\n",
    "#### -> No disk may be placed on top of a smaller disk."
   ]
  },
  {
   "cell_type": "markdown",
   "id": "74a4579f-6080-4029-bf27-d411edf4c3f3",
   "metadata": {},
   "source": [
    "# Tower of Hanoi using Recursion:\n",
    "###  The idea is to use the helper node to reach the destination using recursion. Below is the pattern for this problem:\n",
    "\n",
    "Shift ‘N-1’ disks from ‘A’ to ‘B’, using C.\n",
    "Shift last disk from ‘A’ to ‘C’.\n",
    "Shift ‘N-1’ disks from ‘B’ to ‘C’, using A."
   ]
  },
  {
   "cell_type": "code",
   "execution_count": 1,
   "id": "32925a22-0d60-4482-bb1b-06a2f6f27b96",
   "metadata": {},
   "outputs": [
    {
     "name": "stdout",
     "output_type": "stream",
     "text": [
      "Move disk 1 from A to C\n",
      "Move disk 2 from A to B\n",
      "Move disk 1 from C to B\n",
      "Move disk 3 from A to C\n",
      "Move disk 1 from B to A\n",
      "Move disk 2 from B to C\n",
      "Move disk 1 from A to C\n"
     ]
    }
   ],
   "source": [
    "def tower_of_hanoi(n, source, destination, auxiliary):\n",
    "    if n == 1:\n",
    "        print(f\"Move disk 1 from {source} to {destination}\")\n",
    "    else:\n",
    "        tower_of_hanoi(n - 1, source, auxiliary, destination)\n",
    "        print(f\"Move disk {n} from {source} to {destination}\")\n",
    "        tower_of_hanoi(n - 1, auxiliary, destination, source)\n",
    "\n",
    "\n",
    "number_of_disks = 3\n",
    "tower_of_hanoi(number_of_disks, 'A', 'C', 'B')"
   ]
  },
  {
   "cell_type": "markdown",
   "id": "e2630983-d641-4789-ac6a-8480974b6b4e",
   "metadata": {},
   "source": [
    " "
   ]
  },
  {
   "cell_type": "markdown",
   "id": "503c440c-ad80-476e-877e-058df5a516af",
   "metadata": {},
   "source": [
    "##   Q2"
   ]
  },
  {
   "cell_type": "code",
   "execution_count": 2,
   "id": "2a081264-aa04-4c0b-b215-fc567e032f8f",
   "metadata": {},
   "outputs": [
    {
     "name": "stdout",
     "output_type": "stream",
     "text": [
      "3\n"
     ]
    }
   ],
   "source": [
    "def minNoOperations(word1, word2): \n",
    "    m = len(word1)\n",
    "    n = len(word2)\n",
    "        \n",
    "    TwoDArray = []\n",
    "        \n",
    "    for i in range(m + 1):\n",
    "        row = [-1] * (n + 1)\n",
    "        TwoDArray.append(row)\n",
    "            \n",
    "    for i in range(m + 1):\n",
    "        for j in range(n + 1):\n",
    "            # Base cases:\n",
    "            # If the first string is empty, the minimum operations are equal to the length of the second string\n",
    "            if i == 0:\n",
    "                TwoDArray[i][j] = j\n",
    "            # If the second string is empty, the minimum operations are equal to the length of the first string\n",
    "            elif j == 0:\n",
    "                TwoDArray[i][j] = i\n",
    "            # If characters at the current positions are equal, no additional operation needed\n",
    "            elif word1[i - 1] == word2[j - 1]:\n",
    "                TwoDArray[i][j] = TwoDArray[i - 1][j - 1]\n",
    "            # If characters are different, consider three operations: insert, delete, replace\n",
    "            else:\n",
    "                TwoDArray[i][j] = min(TwoDArray[i - 1][j], TwoDArray[i][j - 1], TwoDArray[i - 1][j - 1]) + 1\n",
    "\n",
    "    # The bottom-right cell contains the minimum number of operations\n",
    "    return TwoDArray[m][n]\n",
    "\n",
    "\n",
    "word1 = \"horse\"\n",
    "word2 = \"ros\"\n",
    "result = minNoOperations(word1, word2)\n",
    "print(result)\n"
   ]
  },
  {
   "cell_type": "markdown",
   "id": "50c11a98-a679-47f1-80af-7b1d79fd3e98",
   "metadata": {},
   "source": [
    " "
   ]
  },
  {
   "cell_type": "markdown",
   "id": "3e234e84-73e5-4ea1-a4c7-b6ccd3a885b4",
   "metadata": {},
   "source": [
    "##    Q3"
   ]
  },
  {
   "cell_type": "code",
   "execution_count": 3,
   "id": "2cec2c75-11bf-4419-93e5-79f11268bb0d",
   "metadata": {},
   "outputs": [
    {
     "name": "stdout",
     "output_type": "stream",
     "text": [
      "22\n"
     ]
    }
   ],
   "source": [
    "def maxVal(arr):\n",
    "    maxValue = arr[0]\n",
    "    for i in range(len(arr)):\n",
    "        if maxValue < arr[i]:\n",
    "            maxValue = arr[i]\n",
    "    return maxValue\n",
    "\n",
    "arr = [ 13, 1, -3, 22, 5]\n",
    "result = maxVal(arr)\n",
    "print(result)"
   ]
  },
  {
   "cell_type": "markdown",
   "id": "788e85af-ef63-403d-a32d-4257ecad7ca6",
   "metadata": {},
   "source": [
    " "
   ]
  },
  {
   "cell_type": "markdown",
   "id": "045fb95d-2107-4854-8e7b-47cb6929e9d6",
   "metadata": {},
   "source": [
    "##     Q4"
   ]
  },
  {
   "cell_type": "code",
   "execution_count": 4,
   "id": "2a695df0-2df0-4e26-b256-2f5d2449bd44",
   "metadata": {},
   "outputs": [
    {
     "name": "stdout",
     "output_type": "stream",
     "text": [
      "120\n"
     ]
    }
   ],
   "source": [
    "def sumOfValues(arr):\n",
    "    Sum = 0\n",
    "    for i in range(len(arr)):\n",
    "        Sum = Sum + arr[i]\n",
    "    return Sum\n",
    "\n",
    "arr = [92, 23, 15, -20, 10]\n",
    "result = sumOfValues(arr)\n",
    "print(result)"
   ]
  },
  {
   "cell_type": "markdown",
   "id": "4acf0d5a-bc92-4855-8e00-4b440789d697",
   "metadata": {},
   "source": [
    " "
   ]
  },
  {
   "cell_type": "markdown",
   "id": "839994fa-7ead-4d8a-91d7-e98b603c47d5",
   "metadata": {},
   "source": [
    "##    Q5"
   ]
  },
  {
   "cell_type": "code",
   "execution_count": 5,
   "id": "c3de0ff4-a826-4cff-b23d-d2701d72119e",
   "metadata": {},
   "outputs": [
    {
     "name": "stdin",
     "output_type": "stream",
     "text": [
      "Enter the Number: 153\n"
     ]
    },
    {
     "name": "stdout",
     "output_type": "stream",
     "text": [
      "Yes\n"
     ]
    }
   ],
   "source": [
    "def Armostrong(arr,n):\n",
    "    Sum = 0\n",
    "    for i in range(len(arr)):\n",
    "        Sum = Sum + arr[i]**len(arr)\n",
    "    if Sum == n :\n",
    "        return(\"Yes\")\n",
    "    else:\n",
    "        return(\"No\")\n",
    "\n",
    "n = int(input(\"Enter the Number:\"))\n",
    "arr = [int(i) for i in str(n)]\n",
    "result = Armostrong(arr,n)\n",
    "print(result)"
   ]
  }
 ],
 "metadata": {
  "kernelspec": {
   "display_name": "Python 3 (ipykernel)",
   "language": "python",
   "name": "python3"
  },
  "language_info": {
   "codemirror_mode": {
    "name": "ipython",
    "version": 3
   },
   "file_extension": ".py",
   "mimetype": "text/x-python",
   "name": "python",
   "nbconvert_exporter": "python",
   "pygments_lexer": "ipython3",
   "version": "3.10.8"
  }
 },
 "nbformat": 4,
 "nbformat_minor": 5
}
